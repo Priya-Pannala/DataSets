{
 "cells": [
  {
   "cell_type": "code",
   "execution_count": 1,
   "id": "292c03d4",
   "metadata": {},
   "outputs": [],
   "source": [
    "#### Importing Required libraries\n",
    "\n",
    "import pandas as pd\n",
    "\n",
    "import datetime as dt\n",
    "\n",
    "import matplotlib.pyplot as plt\n",
    "\n",
    "import scipy\n"
   ]
  },
  {
   "cell_type": "code",
   "execution_count": 2,
   "id": "e6d401ec",
   "metadata": {},
   "outputs": [],
   "source": [
    "#### Reading all given data\n",
    "\n",
    "cab=pd.read_csv(\"Cab_data.csv\")\n",
    "\n",
    "city=pd.read_csv(\"City.csv\")\n",
    "\n",
    "customer=pd.read_csv(\"Customer_ID.csv\")\n",
    "\n",
    "Transaction=pd.read_csv(\"Transaction_ID.csv\")"
   ]
  },
  {
   "cell_type": "code",
   "execution_count": 3,
   "id": "358a96a3",
   "metadata": {
    "scrolled": false
   },
   "outputs": [
    {
     "data": {
      "text/html": [
       "<div>\n",
       "<style scoped>\n",
       "    .dataframe tbody tr th:only-of-type {\n",
       "        vertical-align: middle;\n",
       "    }\n",
       "\n",
       "    .dataframe tbody tr th {\n",
       "        vertical-align: top;\n",
       "    }\n",
       "\n",
       "    .dataframe thead th {\n",
       "        text-align: right;\n",
       "    }\n",
       "</style>\n",
       "<table border=\"1\" class=\"dataframe\">\n",
       "  <thead>\n",
       "    <tr style=\"text-align: right;\">\n",
       "      <th></th>\n",
       "      <th>Customer ID</th>\n",
       "      <th>Gender</th>\n",
       "      <th>Age</th>\n",
       "      <th>Income (USD/Month)</th>\n",
       "      <th>Transaction ID</th>\n",
       "      <th>Payment_Mode</th>\n",
       "      <th>Date of Travel</th>\n",
       "      <th>Company</th>\n",
       "      <th>City</th>\n",
       "      <th>KM Travelled</th>\n",
       "      <th>Price Charged</th>\n",
       "      <th>Cost of Trip</th>\n",
       "      <th>Population</th>\n",
       "      <th>Users</th>\n",
       "    </tr>\n",
       "  </thead>\n",
       "  <tbody>\n",
       "    <tr>\n",
       "      <th>0</th>\n",
       "      <td>29290</td>\n",
       "      <td>Male</td>\n",
       "      <td>28</td>\n",
       "      <td>10813</td>\n",
       "      <td>10000011</td>\n",
       "      <td>Card</td>\n",
       "      <td>42377</td>\n",
       "      <td>Pink Cab</td>\n",
       "      <td>ATLANTA GA</td>\n",
       "      <td>30.45</td>\n",
       "      <td>370.95</td>\n",
       "      <td>313.6350</td>\n",
       "      <td>814,885</td>\n",
       "      <td>24,701</td>\n",
       "    </tr>\n",
       "    <tr>\n",
       "      <th>1</th>\n",
       "      <td>29290</td>\n",
       "      <td>Male</td>\n",
       "      <td>28</td>\n",
       "      <td>10813</td>\n",
       "      <td>10351127</td>\n",
       "      <td>Cash</td>\n",
       "      <td>43302</td>\n",
       "      <td>Yellow Cab</td>\n",
       "      <td>ATLANTA GA</td>\n",
       "      <td>26.19</td>\n",
       "      <td>598.70</td>\n",
       "      <td>317.4228</td>\n",
       "      <td>814,885</td>\n",
       "      <td>24,701</td>\n",
       "    </tr>\n",
       "    <tr>\n",
       "      <th>2</th>\n",
       "      <td>29290</td>\n",
       "      <td>Male</td>\n",
       "      <td>28</td>\n",
       "      <td>10813</td>\n",
       "      <td>10412921</td>\n",
       "      <td>Card</td>\n",
       "      <td>43427</td>\n",
       "      <td>Yellow Cab</td>\n",
       "      <td>ATLANTA GA</td>\n",
       "      <td>42.55</td>\n",
       "      <td>792.05</td>\n",
       "      <td>597.4020</td>\n",
       "      <td>814,885</td>\n",
       "      <td>24,701</td>\n",
       "    </tr>\n",
       "    <tr>\n",
       "      <th>3</th>\n",
       "      <td>27703</td>\n",
       "      <td>Male</td>\n",
       "      <td>27</td>\n",
       "      <td>9237</td>\n",
       "      <td>10000012</td>\n",
       "      <td>Card</td>\n",
       "      <td>42375</td>\n",
       "      <td>Pink Cab</td>\n",
       "      <td>ATLANTA GA</td>\n",
       "      <td>28.62</td>\n",
       "      <td>358.52</td>\n",
       "      <td>334.8540</td>\n",
       "      <td>814,885</td>\n",
       "      <td>24,701</td>\n",
       "    </tr>\n",
       "    <tr>\n",
       "      <th>4</th>\n",
       "      <td>27703</td>\n",
       "      <td>Male</td>\n",
       "      <td>27</td>\n",
       "      <td>9237</td>\n",
       "      <td>10320494</td>\n",
       "      <td>Card</td>\n",
       "      <td>43211</td>\n",
       "      <td>Yellow Cab</td>\n",
       "      <td>ATLANTA GA</td>\n",
       "      <td>36.38</td>\n",
       "      <td>721.10</td>\n",
       "      <td>467.1192</td>\n",
       "      <td>814,885</td>\n",
       "      <td>24,701</td>\n",
       "    </tr>\n",
       "    <tr>\n",
       "      <th>...</th>\n",
       "      <td>...</td>\n",
       "      <td>...</td>\n",
       "      <td>...</td>\n",
       "      <td>...</td>\n",
       "      <td>...</td>\n",
       "      <td>...</td>\n",
       "      <td>...</td>\n",
       "      <td>...</td>\n",
       "      <td>...</td>\n",
       "      <td>...</td>\n",
       "      <td>...</td>\n",
       "      <td>...</td>\n",
       "      <td>...</td>\n",
       "      <td>...</td>\n",
       "    </tr>\n",
       "    <tr>\n",
       "      <th>359387</th>\n",
       "      <td>51406</td>\n",
       "      <td>Female</td>\n",
       "      <td>29</td>\n",
       "      <td>6829</td>\n",
       "      <td>10307228</td>\n",
       "      <td>Cash</td>\n",
       "      <td>43162</td>\n",
       "      <td>Yellow Cab</td>\n",
       "      <td>WASHINGTON DC</td>\n",
       "      <td>38.40</td>\n",
       "      <td>668.93</td>\n",
       "      <td>525.3120</td>\n",
       "      <td>418,859</td>\n",
       "      <td>127,001</td>\n",
       "    </tr>\n",
       "    <tr>\n",
       "      <th>359388</th>\n",
       "      <td>51406</td>\n",
       "      <td>Female</td>\n",
       "      <td>29</td>\n",
       "      <td>6829</td>\n",
       "      <td>10319775</td>\n",
       "      <td>Cash</td>\n",
       "      <td>43203</td>\n",
       "      <td>Yellow Cab</td>\n",
       "      <td>WASHINGTON DC</td>\n",
       "      <td>3.57</td>\n",
       "      <td>67.60</td>\n",
       "      <td>44.5536</td>\n",
       "      <td>418,859</td>\n",
       "      <td>127,001</td>\n",
       "    </tr>\n",
       "    <tr>\n",
       "      <th>359389</th>\n",
       "      <td>51406</td>\n",
       "      <td>Female</td>\n",
       "      <td>29</td>\n",
       "      <td>6829</td>\n",
       "      <td>10347676</td>\n",
       "      <td>Card</td>\n",
       "      <td>43287</td>\n",
       "      <td>Yellow Cab</td>\n",
       "      <td>WASHINGTON DC</td>\n",
       "      <td>23.46</td>\n",
       "      <td>331.97</td>\n",
       "      <td>337.8240</td>\n",
       "      <td>418,859</td>\n",
       "      <td>127,001</td>\n",
       "    </tr>\n",
       "    <tr>\n",
       "      <th>359390</th>\n",
       "      <td>51406</td>\n",
       "      <td>Female</td>\n",
       "      <td>29</td>\n",
       "      <td>6829</td>\n",
       "      <td>10358624</td>\n",
       "      <td>Cash</td>\n",
       "      <td>43314</td>\n",
       "      <td>Yellow Cab</td>\n",
       "      <td>WASHINGTON DC</td>\n",
       "      <td>27.60</td>\n",
       "      <td>358.23</td>\n",
       "      <td>364.3200</td>\n",
       "      <td>418,859</td>\n",
       "      <td>127,001</td>\n",
       "    </tr>\n",
       "    <tr>\n",
       "      <th>359391</th>\n",
       "      <td>51406</td>\n",
       "      <td>Female</td>\n",
       "      <td>29</td>\n",
       "      <td>6829</td>\n",
       "      <td>10370709</td>\n",
       "      <td>Card</td>\n",
       "      <td>43342</td>\n",
       "      <td>Yellow Cab</td>\n",
       "      <td>WASHINGTON DC</td>\n",
       "      <td>34.24</td>\n",
       "      <td>453.11</td>\n",
       "      <td>427.3152</td>\n",
       "      <td>418,859</td>\n",
       "      <td>127,001</td>\n",
       "    </tr>\n",
       "  </tbody>\n",
       "</table>\n",
       "<p>359392 rows × 14 columns</p>\n",
       "</div>"
      ],
      "text/plain": [
       "        Customer ID  Gender  Age  Income (USD/Month)  Transaction ID  \\\n",
       "0             29290    Male   28               10813        10000011   \n",
       "1             29290    Male   28               10813        10351127   \n",
       "2             29290    Male   28               10813        10412921   \n",
       "3             27703    Male   27                9237        10000012   \n",
       "4             27703    Male   27                9237        10320494   \n",
       "...             ...     ...  ...                 ...             ...   \n",
       "359387        51406  Female   29                6829        10307228   \n",
       "359388        51406  Female   29                6829        10319775   \n",
       "359389        51406  Female   29                6829        10347676   \n",
       "359390        51406  Female   29                6829        10358624   \n",
       "359391        51406  Female   29                6829        10370709   \n",
       "\n",
       "       Payment_Mode  Date of Travel     Company           City  KM Travelled  \\\n",
       "0              Card           42377    Pink Cab     ATLANTA GA         30.45   \n",
       "1              Cash           43302  Yellow Cab     ATLANTA GA         26.19   \n",
       "2              Card           43427  Yellow Cab     ATLANTA GA         42.55   \n",
       "3              Card           42375    Pink Cab     ATLANTA GA         28.62   \n",
       "4              Card           43211  Yellow Cab     ATLANTA GA         36.38   \n",
       "...             ...             ...         ...            ...           ...   \n",
       "359387         Cash           43162  Yellow Cab  WASHINGTON DC         38.40   \n",
       "359388         Cash           43203  Yellow Cab  WASHINGTON DC          3.57   \n",
       "359389         Card           43287  Yellow Cab  WASHINGTON DC         23.46   \n",
       "359390         Cash           43314  Yellow Cab  WASHINGTON DC         27.60   \n",
       "359391         Card           43342  Yellow Cab  WASHINGTON DC         34.24   \n",
       "\n",
       "        Price Charged  Cost of Trip Population      Users  \n",
       "0              370.95      313.6350   814,885     24,701   \n",
       "1              598.70      317.4228   814,885     24,701   \n",
       "2              792.05      597.4020   814,885     24,701   \n",
       "3              358.52      334.8540   814,885     24,701   \n",
       "4              721.10      467.1192   814,885     24,701   \n",
       "...               ...           ...        ...        ...  \n",
       "359387         668.93      525.3120   418,859    127,001   \n",
       "359388          67.60       44.5536   418,859    127,001   \n",
       "359389         331.97      337.8240   418,859    127,001   \n",
       "359390         358.23      364.3200   418,859    127,001   \n",
       "359391         453.11      427.3152   418,859    127,001   \n",
       "\n",
       "[359392 rows x 14 columns]"
      ]
     },
     "execution_count": 3,
     "metadata": {},
     "output_type": "execute_result"
    }
   ],
   "source": [
    "#### meerging all related data using merge function\n",
    "\n",
    "Final=customer.merge(Transaction).merge(cab).merge(city)\n",
    "\n",
    "Final"
   ]
  },
  {
   "cell_type": "code",
   "execution_count": 4,
   "id": "a2c87b08",
   "metadata": {},
   "outputs": [],
   "source": [
    "#### Converting Date of Travel into Date time format\n",
    "\n",
    "Final['Date of Travel'] = pd.to_datetime(Final['Date of Travel'], errors='coerce',unit='D', origin='1899-12-30')\n"
   ]
  },
  {
   "cell_type": "code",
   "execution_count": 5,
   "id": "75e17838",
   "metadata": {},
   "outputs": [
    {
     "data": {
      "text/html": [
       "<div>\n",
       "<style scoped>\n",
       "    .dataframe tbody tr th:only-of-type {\n",
       "        vertical-align: middle;\n",
       "    }\n",
       "\n",
       "    .dataframe tbody tr th {\n",
       "        vertical-align: top;\n",
       "    }\n",
       "\n",
       "    .dataframe thead th {\n",
       "        text-align: right;\n",
       "    }\n",
       "</style>\n",
       "<table border=\"1\" class=\"dataframe\">\n",
       "  <thead>\n",
       "    <tr style=\"text-align: right;\">\n",
       "      <th></th>\n",
       "      <th>Customer ID</th>\n",
       "      <th>Gender</th>\n",
       "      <th>Age</th>\n",
       "      <th>Income (USD/Month)</th>\n",
       "      <th>Transaction ID</th>\n",
       "      <th>Payment_Mode</th>\n",
       "      <th>Date of Travel</th>\n",
       "      <th>Company</th>\n",
       "      <th>City</th>\n",
       "      <th>KM Travelled</th>\n",
       "      <th>Price Charged</th>\n",
       "      <th>Cost of Trip</th>\n",
       "      <th>Population</th>\n",
       "      <th>Users</th>\n",
       "    </tr>\n",
       "  </thead>\n",
       "  <tbody>\n",
       "    <tr>\n",
       "      <th>1</th>\n",
       "      <td>29290</td>\n",
       "      <td>Male</td>\n",
       "      <td>28</td>\n",
       "      <td>10813</td>\n",
       "      <td>10351127</td>\n",
       "      <td>Cash</td>\n",
       "      <td>2018-07-21</td>\n",
       "      <td>Yellow Cab</td>\n",
       "      <td>ATLANTA GA</td>\n",
       "      <td>26.19</td>\n",
       "      <td>598.70</td>\n",
       "      <td>317.4228</td>\n",
       "      <td>814,885</td>\n",
       "      <td>24,701</td>\n",
       "    </tr>\n",
       "    <tr>\n",
       "      <th>2</th>\n",
       "      <td>29290</td>\n",
       "      <td>Male</td>\n",
       "      <td>28</td>\n",
       "      <td>10813</td>\n",
       "      <td>10412921</td>\n",
       "      <td>Card</td>\n",
       "      <td>2018-11-23</td>\n",
       "      <td>Yellow Cab</td>\n",
       "      <td>ATLANTA GA</td>\n",
       "      <td>42.55</td>\n",
       "      <td>792.05</td>\n",
       "      <td>597.4020</td>\n",
       "      <td>814,885</td>\n",
       "      <td>24,701</td>\n",
       "    </tr>\n",
       "    <tr>\n",
       "      <th>4</th>\n",
       "      <td>27703</td>\n",
       "      <td>Male</td>\n",
       "      <td>27</td>\n",
       "      <td>9237</td>\n",
       "      <td>10320494</td>\n",
       "      <td>Card</td>\n",
       "      <td>2018-04-21</td>\n",
       "      <td>Yellow Cab</td>\n",
       "      <td>ATLANTA GA</td>\n",
       "      <td>36.38</td>\n",
       "      <td>721.10</td>\n",
       "      <td>467.1192</td>\n",
       "      <td>814,885</td>\n",
       "      <td>24,701</td>\n",
       "    </tr>\n",
       "    <tr>\n",
       "      <th>5</th>\n",
       "      <td>27703</td>\n",
       "      <td>Male</td>\n",
       "      <td>27</td>\n",
       "      <td>9237</td>\n",
       "      <td>10324737</td>\n",
       "      <td>Cash</td>\n",
       "      <td>2018-05-04</td>\n",
       "      <td>Yellow Cab</td>\n",
       "      <td>ATLANTA GA</td>\n",
       "      <td>6.18</td>\n",
       "      <td>138.40</td>\n",
       "      <td>87.5088</td>\n",
       "      <td>814,885</td>\n",
       "      <td>24,701</td>\n",
       "    </tr>\n",
       "    <tr>\n",
       "      <th>6</th>\n",
       "      <td>27703</td>\n",
       "      <td>Male</td>\n",
       "      <td>27</td>\n",
       "      <td>9237</td>\n",
       "      <td>10395626</td>\n",
       "      <td>Card</td>\n",
       "      <td>2018-10-27</td>\n",
       "      <td>Pink Cab</td>\n",
       "      <td>ATLANTA GA</td>\n",
       "      <td>13.39</td>\n",
       "      <td>167.03</td>\n",
       "      <td>141.9340</td>\n",
       "      <td>814,885</td>\n",
       "      <td>24,701</td>\n",
       "    </tr>\n",
       "    <tr>\n",
       "      <th>...</th>\n",
       "      <td>...</td>\n",
       "      <td>...</td>\n",
       "      <td>...</td>\n",
       "      <td>...</td>\n",
       "      <td>...</td>\n",
       "      <td>...</td>\n",
       "      <td>...</td>\n",
       "      <td>...</td>\n",
       "      <td>...</td>\n",
       "      <td>...</td>\n",
       "      <td>...</td>\n",
       "      <td>...</td>\n",
       "      <td>...</td>\n",
       "      <td>...</td>\n",
       "    </tr>\n",
       "    <tr>\n",
       "      <th>359387</th>\n",
       "      <td>51406</td>\n",
       "      <td>Female</td>\n",
       "      <td>29</td>\n",
       "      <td>6829</td>\n",
       "      <td>10307228</td>\n",
       "      <td>Cash</td>\n",
       "      <td>2018-03-03</td>\n",
       "      <td>Yellow Cab</td>\n",
       "      <td>WASHINGTON DC</td>\n",
       "      <td>38.40</td>\n",
       "      <td>668.93</td>\n",
       "      <td>525.3120</td>\n",
       "      <td>418,859</td>\n",
       "      <td>127,001</td>\n",
       "    </tr>\n",
       "    <tr>\n",
       "      <th>359388</th>\n",
       "      <td>51406</td>\n",
       "      <td>Female</td>\n",
       "      <td>29</td>\n",
       "      <td>6829</td>\n",
       "      <td>10319775</td>\n",
       "      <td>Cash</td>\n",
       "      <td>2018-04-13</td>\n",
       "      <td>Yellow Cab</td>\n",
       "      <td>WASHINGTON DC</td>\n",
       "      <td>3.57</td>\n",
       "      <td>67.60</td>\n",
       "      <td>44.5536</td>\n",
       "      <td>418,859</td>\n",
       "      <td>127,001</td>\n",
       "    </tr>\n",
       "    <tr>\n",
       "      <th>359389</th>\n",
       "      <td>51406</td>\n",
       "      <td>Female</td>\n",
       "      <td>29</td>\n",
       "      <td>6829</td>\n",
       "      <td>10347676</td>\n",
       "      <td>Card</td>\n",
       "      <td>2018-07-06</td>\n",
       "      <td>Yellow Cab</td>\n",
       "      <td>WASHINGTON DC</td>\n",
       "      <td>23.46</td>\n",
       "      <td>331.97</td>\n",
       "      <td>337.8240</td>\n",
       "      <td>418,859</td>\n",
       "      <td>127,001</td>\n",
       "    </tr>\n",
       "    <tr>\n",
       "      <th>359390</th>\n",
       "      <td>51406</td>\n",
       "      <td>Female</td>\n",
       "      <td>29</td>\n",
       "      <td>6829</td>\n",
       "      <td>10358624</td>\n",
       "      <td>Cash</td>\n",
       "      <td>2018-08-02</td>\n",
       "      <td>Yellow Cab</td>\n",
       "      <td>WASHINGTON DC</td>\n",
       "      <td>27.60</td>\n",
       "      <td>358.23</td>\n",
       "      <td>364.3200</td>\n",
       "      <td>418,859</td>\n",
       "      <td>127,001</td>\n",
       "    </tr>\n",
       "    <tr>\n",
       "      <th>359391</th>\n",
       "      <td>51406</td>\n",
       "      <td>Female</td>\n",
       "      <td>29</td>\n",
       "      <td>6829</td>\n",
       "      <td>10370709</td>\n",
       "      <td>Card</td>\n",
       "      <td>2018-08-30</td>\n",
       "      <td>Yellow Cab</td>\n",
       "      <td>WASHINGTON DC</td>\n",
       "      <td>34.24</td>\n",
       "      <td>453.11</td>\n",
       "      <td>427.3152</td>\n",
       "      <td>418,859</td>\n",
       "      <td>127,001</td>\n",
       "    </tr>\n",
       "  </tbody>\n",
       "</table>\n",
       "<p>355032 rows × 14 columns</p>\n",
       "</div>"
      ],
      "text/plain": [
       "        Customer ID  Gender  Age  Income (USD/Month)  Transaction ID  \\\n",
       "1             29290    Male   28               10813        10351127   \n",
       "2             29290    Male   28               10813        10412921   \n",
       "4             27703    Male   27                9237        10320494   \n",
       "5             27703    Male   27                9237        10324737   \n",
       "6             27703    Male   27                9237        10395626   \n",
       "...             ...     ...  ...                 ...             ...   \n",
       "359387        51406  Female   29                6829        10307228   \n",
       "359388        51406  Female   29                6829        10319775   \n",
       "359389        51406  Female   29                6829        10347676   \n",
       "359390        51406  Female   29                6829        10358624   \n",
       "359391        51406  Female   29                6829        10370709   \n",
       "\n",
       "       Payment_Mode Date of Travel     Company           City  KM Travelled  \\\n",
       "1              Cash     2018-07-21  Yellow Cab     ATLANTA GA         26.19   \n",
       "2              Card     2018-11-23  Yellow Cab     ATLANTA GA         42.55   \n",
       "4              Card     2018-04-21  Yellow Cab     ATLANTA GA         36.38   \n",
       "5              Cash     2018-05-04  Yellow Cab     ATLANTA GA          6.18   \n",
       "6              Card     2018-10-27    Pink Cab     ATLANTA GA         13.39   \n",
       "...             ...            ...         ...            ...           ...   \n",
       "359387         Cash     2018-03-03  Yellow Cab  WASHINGTON DC         38.40   \n",
       "359388         Cash     2018-04-13  Yellow Cab  WASHINGTON DC          3.57   \n",
       "359389         Card     2018-07-06  Yellow Cab  WASHINGTON DC         23.46   \n",
       "359390         Cash     2018-08-02  Yellow Cab  WASHINGTON DC         27.60   \n",
       "359391         Card     2018-08-30  Yellow Cab  WASHINGTON DC         34.24   \n",
       "\n",
       "        Price Charged  Cost of Trip Population      Users  \n",
       "1              598.70      317.4228   814,885     24,701   \n",
       "2              792.05      597.4020   814,885     24,701   \n",
       "4              721.10      467.1192   814,885     24,701   \n",
       "5              138.40       87.5088   814,885     24,701   \n",
       "6              167.03      141.9340   814,885     24,701   \n",
       "...               ...           ...        ...        ...  \n",
       "359387         668.93      525.3120   418,859    127,001   \n",
       "359388          67.60       44.5536   418,859    127,001   \n",
       "359389         331.97      337.8240   418,859    127,001   \n",
       "359390         358.23      364.3200   418,859    127,001   \n",
       "359391         453.11      427.3152   418,859    127,001   \n",
       "\n",
       "[355032 rows x 14 columns]"
      ]
     },
     "execution_count": 5,
     "metadata": {},
     "output_type": "execute_result"
    }
   ],
   "source": [
    "#### Selecting data between given range i.e 2016-01-31 & 2018-12-31\n",
    "\n",
    "startdate='2016-01-31'\n",
    "\n",
    "enddate='2018-12-31'\n",
    "\n",
    "startdate = pd.to_datetime(startdate)\n",
    "\n",
    "enddate = pd.to_datetime(enddate)\n",
    "\n",
    "Cab=Final[Final['Date of Travel'].between(startdate,enddate)]\n",
    "\n",
    "Cab\n"
   ]
  },
  {
   "cell_type": "markdown",
   "id": "e4990632",
   "metadata": {},
   "source": [
    "### EXPLORATORY DATA ANALYSIS(EDA)"
   ]
  },
  {
   "cell_type": "code",
   "execution_count": 6,
   "id": "1bcb465c",
   "metadata": {},
   "outputs": [
    {
     "data": {
      "text/plain": [
       "Customer ID                    int64\n",
       "Gender                        object\n",
       "Age                            int64\n",
       "Income (USD/Month)             int64\n",
       "Transaction ID                 int64\n",
       "Payment_Mode                  object\n",
       "Date of Travel        datetime64[ns]\n",
       "Company                       object\n",
       "City                          object\n",
       "KM Travelled                 float64\n",
       "Price Charged                float64\n",
       "Cost of Trip                 float64\n",
       "Population                    object\n",
       "Users                         object\n",
       "dtype: object"
      ]
     },
     "execution_count": 6,
     "metadata": {},
     "output_type": "execute_result"
    }
   ],
   "source": [
    "#### Getting info about datatypes of dataset\n",
    "\n",
    "Cab.dtypes"
   ]
  },
  {
   "cell_type": "code",
   "execution_count": 7,
   "id": "c290ce27",
   "metadata": {},
   "outputs": [],
   "source": [
    "#### Converting data type of Transaction ID , Customer ID into object\n",
    "\n",
    "Cab=Cab.astype({'Transaction ID':'object','Customer ID':'object'})"
   ]
  },
  {
   "cell_type": "code",
   "execution_count": 8,
   "id": "a0b2f694",
   "metadata": {},
   "outputs": [
    {
     "name": "stdout",
     "output_type": "stream",
     "text": [
      "<class 'pandas.core.frame.DataFrame'>\n",
      "Int64Index: 355032 entries, 1 to 359391\n",
      "Data columns (total 14 columns):\n",
      " #   Column              Non-Null Count   Dtype         \n",
      "---  ------              --------------   -----         \n",
      " 0   Customer ID         355032 non-null  object        \n",
      " 1   Gender              355032 non-null  object        \n",
      " 2   Age                 355032 non-null  int64         \n",
      " 3   Income (USD/Month)  355032 non-null  int64         \n",
      " 4   Transaction ID      355032 non-null  object        \n",
      " 5   Payment_Mode        355032 non-null  object        \n",
      " 6   Date of Travel      355032 non-null  datetime64[ns]\n",
      " 7   Company             355032 non-null  object        \n",
      " 8   City                355032 non-null  object        \n",
      " 9   KM Travelled        355032 non-null  float64       \n",
      " 10  Price Charged       355032 non-null  float64       \n",
      " 11  Cost of Trip        355032 non-null  float64       \n",
      " 12  Population          355032 non-null  object        \n",
      " 13  Users               355032 non-null  object        \n",
      "dtypes: datetime64[ns](1), float64(3), int64(2), object(8)\n",
      "memory usage: 40.6+ MB\n"
     ]
    }
   ],
   "source": [
    "### Getting dataset information\n",
    "\n",
    "Cab.info()"
   ]
  },
  {
   "cell_type": "code",
   "execution_count": 9,
   "id": "d4bccf6c",
   "metadata": {
    "scrolled": true
   },
   "outputs": [
    {
     "data": {
      "text/html": [
       "<div>\n",
       "<style scoped>\n",
       "    .dataframe tbody tr th:only-of-type {\n",
       "        vertical-align: middle;\n",
       "    }\n",
       "\n",
       "    .dataframe tbody tr th {\n",
       "        vertical-align: top;\n",
       "    }\n",
       "\n",
       "    .dataframe thead th {\n",
       "        text-align: right;\n",
       "    }\n",
       "</style>\n",
       "<table border=\"1\" class=\"dataframe\">\n",
       "  <thead>\n",
       "    <tr style=\"text-align: right;\">\n",
       "      <th></th>\n",
       "      <th>Age</th>\n",
       "      <th>Income (USD/Month)</th>\n",
       "      <th>KM Travelled</th>\n",
       "      <th>Price Charged</th>\n",
       "      <th>Cost of Trip</th>\n",
       "    </tr>\n",
       "  </thead>\n",
       "  <tbody>\n",
       "    <tr>\n",
       "      <th>count</th>\n",
       "      <td>355032.000000</td>\n",
       "      <td>355032.000000</td>\n",
       "      <td>355032.000000</td>\n",
       "      <td>355032.000000</td>\n",
       "      <td>355032.000000</td>\n",
       "    </tr>\n",
       "    <tr>\n",
       "      <th>mean</th>\n",
       "      <td>35.335933</td>\n",
       "      <td>15048.244246</td>\n",
       "      <td>22.566598</td>\n",
       "      <td>422.742351</td>\n",
       "      <td>286.165041</td>\n",
       "    </tr>\n",
       "    <tr>\n",
       "      <th>std</th>\n",
       "      <td>12.593311</td>\n",
       "      <td>7968.286955</td>\n",
       "      <td>12.234181</td>\n",
       "      <td>273.830796</td>\n",
       "      <td>157.997162</td>\n",
       "    </tr>\n",
       "    <tr>\n",
       "      <th>min</th>\n",
       "      <td>18.000000</td>\n",
       "      <td>2000.000000</td>\n",
       "      <td>1.900000</td>\n",
       "      <td>15.600000</td>\n",
       "      <td>19.000000</td>\n",
       "    </tr>\n",
       "    <tr>\n",
       "      <th>25%</th>\n",
       "      <td>25.000000</td>\n",
       "      <td>8424.000000</td>\n",
       "      <td>12.000000</td>\n",
       "      <td>206.160000</td>\n",
       "      <td>151.200000</td>\n",
       "    </tr>\n",
       "    <tr>\n",
       "      <th>50%</th>\n",
       "      <td>33.000000</td>\n",
       "      <td>14682.000000</td>\n",
       "      <td>22.440000</td>\n",
       "      <td>385.870000</td>\n",
       "      <td>282.464000</td>\n",
       "    </tr>\n",
       "    <tr>\n",
       "      <th>75%</th>\n",
       "      <td>42.000000</td>\n",
       "      <td>21034.000000</td>\n",
       "      <td>32.960000</td>\n",
       "      <td>582.692500</td>\n",
       "      <td>413.683200</td>\n",
       "    </tr>\n",
       "    <tr>\n",
       "      <th>max</th>\n",
       "      <td>65.000000</td>\n",
       "      <td>35000.000000</td>\n",
       "      <td>48.000000</td>\n",
       "      <td>2048.030000</td>\n",
       "      <td>691.200000</td>\n",
       "    </tr>\n",
       "  </tbody>\n",
       "</table>\n",
       "</div>"
      ],
      "text/plain": [
       "                 Age  Income (USD/Month)   KM Travelled  Price Charged  \\\n",
       "count  355032.000000       355032.000000  355032.000000  355032.000000   \n",
       "mean       35.335933        15048.244246      22.566598     422.742351   \n",
       "std        12.593311         7968.286955      12.234181     273.830796   \n",
       "min        18.000000         2000.000000       1.900000      15.600000   \n",
       "25%        25.000000         8424.000000      12.000000     206.160000   \n",
       "50%        33.000000        14682.000000      22.440000     385.870000   \n",
       "75%        42.000000        21034.000000      32.960000     582.692500   \n",
       "max        65.000000        35000.000000      48.000000    2048.030000   \n",
       "\n",
       "        Cost of Trip  \n",
       "count  355032.000000  \n",
       "mean      286.165041  \n",
       "std       157.997162  \n",
       "min        19.000000  \n",
       "25%       151.200000  \n",
       "50%       282.464000  \n",
       "75%       413.683200  \n",
       "max       691.200000  "
      ]
     },
     "execution_count": 9,
     "metadata": {},
     "output_type": "execute_result"
    }
   ],
   "source": [
    "#### Getting Descriptive Statistics\n",
    "\n",
    "Cab.describe()"
   ]
  },
  {
   "cell_type": "markdown",
   "id": "2d2922ec",
   "metadata": {},
   "source": [
    "### DATA PRE PROCESSING"
   ]
  },
  {
   "cell_type": "code",
   "execution_count": 10,
   "id": "0597c3ac",
   "metadata": {},
   "outputs": [
    {
     "data": {
      "text/plain": [
       "1         False\n",
       "2         False\n",
       "4         False\n",
       "5         False\n",
       "6         False\n",
       "          ...  \n",
       "359387    False\n",
       "359388    False\n",
       "359389    False\n",
       "359390    False\n",
       "359391    False\n",
       "Length: 355032, dtype: bool"
      ]
     },
     "execution_count": 10,
     "metadata": {},
     "output_type": "execute_result"
    }
   ],
   "source": [
    "#### Checking for duplicate data\n",
    "\n",
    "Cab.duplicated()"
   ]
  },
  {
   "cell_type": "code",
   "execution_count": 11,
   "id": "a6a7e727",
   "metadata": {},
   "outputs": [
    {
     "data": {
      "text/html": [
       "<div>\n",
       "<style scoped>\n",
       "    .dataframe tbody tr th:only-of-type {\n",
       "        vertical-align: middle;\n",
       "    }\n",
       "\n",
       "    .dataframe tbody tr th {\n",
       "        vertical-align: top;\n",
       "    }\n",
       "\n",
       "    .dataframe thead th {\n",
       "        text-align: right;\n",
       "    }\n",
       "</style>\n",
       "<table border=\"1\" class=\"dataframe\">\n",
       "  <thead>\n",
       "    <tr style=\"text-align: right;\">\n",
       "      <th></th>\n",
       "      <th>Customer ID</th>\n",
       "      <th>Gender</th>\n",
       "      <th>Age</th>\n",
       "      <th>Income (USD/Month)</th>\n",
       "      <th>Transaction ID</th>\n",
       "      <th>Payment_Mode</th>\n",
       "      <th>Date of Travel</th>\n",
       "      <th>Company</th>\n",
       "      <th>City</th>\n",
       "      <th>KM Travelled</th>\n",
       "      <th>Price Charged</th>\n",
       "      <th>Cost of Trip</th>\n",
       "      <th>Population</th>\n",
       "      <th>Users</th>\n",
       "    </tr>\n",
       "  </thead>\n",
       "  <tbody>\n",
       "  </tbody>\n",
       "</table>\n",
       "</div>"
      ],
      "text/plain": [
       "Empty DataFrame\n",
       "Columns: [Customer ID, Gender, Age, Income (USD/Month), Transaction ID, Payment_Mode, Date of Travel, Company, City, KM Travelled, Price Charged, Cost of Trip, Population, Users]\n",
       "Index: []"
      ]
     },
     "execution_count": 11,
     "metadata": {},
     "output_type": "execute_result"
    }
   ],
   "source": [
    "#### To print duplicate values\n",
    "\n",
    "Cab[Cab.duplicated(keep=False)]"
   ]
  },
  {
   "cell_type": "markdown",
   "id": "74ff3aa7",
   "metadata": {},
   "source": [
    "#### We don't have duplicate data in the given dataset"
   ]
  },
  {
   "cell_type": "code",
   "execution_count": 12,
   "id": "6a61bc5a",
   "metadata": {},
   "outputs": [
    {
     "data": {
      "text/plain": [
       "Customer ID           0\n",
       "Gender                0\n",
       "Age                   0\n",
       "Income (USD/Month)    0\n",
       "Transaction ID        0\n",
       "Payment_Mode          0\n",
       "Date of Travel        0\n",
       "Company               0\n",
       "City                  0\n",
       "KM Travelled          0\n",
       "Price Charged         0\n",
       "Cost of Trip          0\n",
       "Population            0\n",
       "Users                 0\n",
       "dtype: int64"
      ]
     },
     "execution_count": 12,
     "metadata": {},
     "output_type": "execute_result"
    }
   ],
   "source": [
    "#### Checking whether null values are there or not\n",
    "\n",
    "Cab.isnull().sum()"
   ]
  },
  {
   "cell_type": "markdown",
   "id": "7f79b675",
   "metadata": {},
   "source": [
    "####  We don't have null values in the given dataset."
   ]
  },
  {
   "cell_type": "code",
   "execution_count": 13,
   "id": "399db33f",
   "metadata": {},
   "outputs": [
    {
     "data": {
      "image/png": "[encoded data removed]",
      "text/plain": [
       "<Figure size 432x288 with 1 Axes>"
      ]
     },
     "metadata": {
      "needs_background": "light"
     },
     "output_type": "display_data"
    },
    {
     "data": {
      "image/png": "[encoded data removed]",
      "text/plain": [
       "<Figure size 432x288 with 1 Axes>"
      ]
     },
     "metadata": {
      "needs_background": "light"
     },
     "output_type": "display_data"
    },
    {
     "data": {
      "image/png": "[encoded data removed]",
      "text/plain": [
       "<Figure size 432x288 with 1 Axes>"
      ]
     },
     "metadata": {
      "needs_background": "light"
     },
     "output_type": "display_data"
    },
    {
     "data": {
      "image/png": "[encoded data removed]",
      "text/plain": [
       "<Figure size 432x288 with 1 Axes>"
      ]
     },
     "metadata": {
      "needs_background": "light"
     },
     "output_type": "display_data"
    },
    {
     "data": {
      "image/png": "[encoded data removed]",
      "text/plain": [
       "<Figure size 432x288 with 1 Axes>"
      ]
     },
     "metadata": {
      "needs_background": "light"
     },
     "output_type": "display_data"
    }
   ],
   "source": [
    "#### Checking for outlier presents\n",
    "\n",
    "plt.boxplot(Cab['KM Travelled'])\n",
    "plt.title(\"KM Travelled\")\n",
    "plt.show()\n",
    "\n",
    "plt.boxplot(Cab['Price Charged'])\n",
    "plt.title(\"Price Charged\")\n",
    "plt.show()\n",
    "\n",
    "plt.boxplot(Cab['Cost of Trip'])\n",
    "plt.title(\"Cost of Trip\")\n",
    "plt.show()\n",
    "\n",
    "plt.boxplot(Cab['Age'])\n",
    "plt.title(\"Age\")\n",
    "plt.show()\n",
    "\n",
    "plt.boxplot(Cab['Income (USD/Month)'])\n",
    "plt.title(\"Income (USD/Month)\")\n",
    "plt.show()"
   ]
  },
  {
   "cell_type": "markdown",
   "id": "725653c3",
   "metadata": {},
   "source": [
    "#### There are no outliers present in the dataset except price charged. but we don't have trip duration details. That's why Iam ignoring the these outliers."
   ]
  },
  {
   "cell_type": "markdown",
   "id": "54d31b88",
   "metadata": {},
   "source": [
    "### HYPOTHESIS TEST"
   ]
  },
  {
   "cell_type": "markdown",
   "id": "42f33473",
   "metadata": {},
   "source": [
    "#### Checking whether data is normally distributed or not?\n",
    "\n",
    "* For that I am using shapiro library"
   ]
  },
  {
   "cell_type": "code",
   "execution_count": 14,
   "id": "5ac3a5cf",
   "metadata": {},
   "outputs": [
    {
     "name": "stdout",
     "output_type": "stream",
     "text": [
      "stat=0.946639,p=0.000000000000000000000000000000\n",
      "Price charged is Not Normally Distributed\n"
     ]
    },
    {
     "name": "stderr",
     "output_type": "stream",
     "text": [
      "/opt/anaconda3/lib/python3.9/site-packages/scipy/stats/morestats.py:1760: UserWarning: p-value may not be accurate for N > 5000.\n",
      "  warnings.warn(\"p-value may not be accurate for N > 5000.\")\n"
     ]
    }
   ],
   "source": [
    "from scipy.stats import shapiro\n",
    "\n",
    "stat,p= shapiro(Cab[\"Price Charged\"])\n",
    "\n",
    "print('stat=%2f,p=%.30f' %(stat,p))\n",
    "\n",
    "if p>0.05:\n",
    "    print(\"Price charged is Normally Distributed\")\n",
    "else:\n",
    "    print(\"Price charged is Not Normally Distributed\")"
   ]
  },
  {
   "cell_type": "code",
   "execution_count": 15,
   "id": "4c6574eb",
   "metadata": {},
   "outputs": [
    {
     "name": "stdout",
     "output_type": "stream",
     "text": [
      "stat=0.968788,p=0.000000000000000000000000000000\n",
      "Cost of Trip is Not Normally Distributed\n"
     ]
    }
   ],
   "source": [
    "from scipy.stats import shapiro\n",
    "\n",
    "stat,p= shapiro(Cab[\"Cost of Trip\"])\n",
    "\n",
    "print('stat=%2f,p=%.30f' %(stat,p))\n",
    "\n",
    "if p>0.05:\n",
    "    print(\"Cost of Trip is Normally Distributed\")\n",
    "else:\n",
    "    print(\"Cost of Trip is Not Normally Distributed\")"
   ]
  },
  {
   "cell_type": "code",
   "execution_count": 16,
   "id": "9c0d19a5",
   "metadata": {},
   "outputs": [
    {
     "name": "stdout",
     "output_type": "stream",
     "text": [
      "stat=0.963215,p=0.000000000000000000000000000000\n",
      "KM Travelled is Not Normally Distributed\n"
     ]
    }
   ],
   "source": [
    "from scipy.stats import shapiro\n",
    "\n",
    "stat,p= shapiro(Cab[\"KM Travelled\"])\n",
    "\n",
    "print('stat=%2f,p=%.30f' %(stat,p))\n",
    "\n",
    "if p>0.05:\n",
    "    print(\"KM Travelled is Normally Distributed\")\n",
    "else:\n",
    "    print(\"KM Travelled is Not Normally Distributed\")"
   ]
  },
  {
   "cell_type": "markdown",
   "id": "287bf661",
   "metadata": {},
   "source": [
    "#### Data is not normally dustributed."
   ]
  },
  {
   "cell_type": "markdown",
   "id": "d9abfc25",
   "metadata": {},
   "source": [
    "### Checking the correlation between features."
   ]
  },
  {
   "cell_type": "markdown",
   "id": "cd8c0fa2",
   "metadata": {},
   "source": [
    "#### I wnat to check whether Cost of Trip is depend on KM travelled or not?"
   ]
  },
  {
   "cell_type": "code",
   "execution_count": 17,
   "id": "a0087d90",
   "metadata": {},
   "outputs": [
    {
     "name": "stdout",
     "output_type": "stream",
     "text": [
      "stat=0.984535,p=0.000000000000000000000000000000\n",
      "Cost of Trip is dependent on KM Travelled\n"
     ]
    }
   ],
   "source": [
    "#### Correlation test between KM travelled and Cost of trip\n",
    "\n",
    "from scipy.stats import spearmanr \n",
    "\n",
    "stat,p= spearmanr(Cab[\"Cost of Trip\"],Cab[\"KM Travelled\"])\n",
    "\n",
    "print('stat=%2f,p=%.30f' %(stat,p))\n",
    "\n",
    "if p>0.05:\n",
    "    print(\"Cost of Trip is Independent on KM Travelled \")\n",
    "else:\n",
    "    print(\"Cost of Trip is dependent on KM Travelled\")"
   ]
  },
  {
   "cell_type": "markdown",
   "id": "2063f3eb",
   "metadata": {},
   "source": [
    "#### I wnat to check whether Cost of Trip is depend on Age or not?\n"
   ]
  },
  {
   "cell_type": "code",
   "execution_count": 18,
   "id": "80f9de60",
   "metadata": {},
   "outputs": [
    {
     "name": "stdout",
     "output_type": "stream",
     "text": [
      "stat=0.000334,p=0.842123732877567032772958555142\n",
      "Cost of Trip is Independent on Age \n"
     ]
    }
   ],
   "source": [
    "#### Correlation test between KM travelled and Age\n",
    "\n",
    "from scipy.stats import spearmanr \n",
    "\n",
    "stat,p= spearmanr(Cab[\"Cost of Trip\"],Cab[\"Age\"])\n",
    "\n",
    "print('stat=%2f,p=%.30f' %(stat,p))\n",
    "\n",
    "if p>0.05:\n",
    "    print(\"Cost of Trip is Independent on Age \")\n",
    "else:\n",
    "    print(\"Cost of Trip is dependent on Age\")"
   ]
  },
  {
   "cell_type": "markdown",
   "id": "deb9c246",
   "metadata": {},
   "source": [
    "#### I wnat to check whether Cost of Trip is depend on city or not?"
   ]
  },
  {
   "cell_type": "code",
   "execution_count": 19,
   "id": "82e6b48b",
   "metadata": {},
   "outputs": [
    {
     "name": "stdout",
     "output_type": "stream",
     "text": [
      "stat=-0.000008,p=0.996318390568607270552092813887\n",
      "Cost of Trip is Independent on City \n"
     ]
    }
   ],
   "source": [
    "#### Correlation test between City and Cost of trip\n",
    "\n",
    "from scipy.stats import spearmanr \n",
    "\n",
    "stat,p= spearmanr(Cab[\"Cost of Trip\"],Cab[\"City\"])\n",
    "\n",
    "print('stat=%2f,p=%.30f' %(stat,p))\n",
    "\n",
    "if p>0.05:\n",
    "    print(\"Cost of Trip is Independent on City \")\n",
    "else:\n",
    "    print(\"Cost of Trip is dependent on City\")"
   ]
  },
  {
   "cell_type": "markdown",
   "id": "e9899a49",
   "metadata": {},
   "source": [
    "#### I wnat to check whether Cost of Trip is depend on company or not?"
   ]
  },
  {
   "cell_type": "code",
   "execution_count": 20,
   "id": "e2ece5b9",
   "metadata": {},
   "outputs": [
    {
     "name": "stdout",
     "output_type": "stream",
     "text": [
      "stat=0.127304,p=0.000000000000000000000000000000\n",
      "Cost of Trip is dependent on Company\n"
     ]
    }
   ],
   "source": [
    "#### Correlation test between Company and Cost of trip\n",
    "\n",
    "from scipy.stats import spearmanr \n",
    "\n",
    "stat,p= spearmanr(Cab[\"Cost of Trip\"],Cab[\"Company\"])\n",
    "\n",
    "print('stat=%2f,p=%.30f' %(stat,p))\n",
    "\n",
    "if p>0.05:\n",
    "    print(\"Cost of Trip is Independent on Company\")\n",
    "else:\n",
    "    print(\"Cost of Trip is dependent on Company\")"
   ]
  },
  {
   "cell_type": "markdown",
   "id": "a67f8788",
   "metadata": {},
   "source": [
    "#### I wnat to check whether Cost of Trip is depend on Gender or not?"
   ]
  },
  {
   "cell_type": "code",
   "execution_count": 21,
   "id": "a320744c",
   "metadata": {},
   "outputs": [
    {
     "name": "stdout",
     "output_type": "stream",
     "text": [
      "stat=0.000501,p=0.765347094358123758439660377917\n",
      "Cost of Trip is Independent on Gender\n"
     ]
    }
   ],
   "source": [
    "#### Correlation test between Gender and Cost of trip\n",
    "\n",
    "from scipy.stats import spearmanr \n",
    "\n",
    "stat,p= spearmanr(Cab[\"Cost of Trip\"],Cab[\"Gender\"])\n",
    "\n",
    "print('stat=%2f,p=%.30f' %(stat,p))\n",
    "\n",
    "if p>0.05:\n",
    "    print(\"Cost of Trip is Independent on Gender\")\n",
    "else:\n",
    "    print(\"Cost of Trip is dependent on Gender\")"
   ]
  },
  {
   "cell_type": "code",
   "execution_count": null,
   "id": "2c52e6ef",
   "metadata": {},
   "outputs": [],
   "source": []
  }
 ],
 "metadata": {
  "kernelspec": {
   "display_name": "Python 3 (ipykernel)",
   "language": "python",
   "name": "python3"
  },
  "language_info": {
   "codemirror_mode": {
    "name": "ipython",
    "version": 3
   },
   "file_extension": ".py",
   "mimetype": "text/x-python",
   "name": "python",
   "nbconvert_exporter": "python",
   "pygments_lexer": "ipython3",
   "version": "3.9.12"
  }
 },
 "nbformat": 4,
 "nbformat_minor": 5
}
